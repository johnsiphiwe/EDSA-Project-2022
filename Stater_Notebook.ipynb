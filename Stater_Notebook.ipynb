{
 "cells": [
  {
   "cell_type": "markdown",
   "id": "728c32b9",
   "metadata": {},
   "source": [
    "# ****************########Job Postings Sracpping Project########****************"
   ]
  },
  {
   "cell_type": "markdown",
   "id": "1777e8cb",
   "metadata": {},
   "source": [
    "## Participants"
   ]
  },
  {
   "cell_type": "markdown",
   "id": "3d4e337f",
   "metadata": {},
   "source": [
    "#### Tshegofatso Sekgobela\n",
    "#### Simbarashe Karambwe\n",
    "#### John Siphiwe\n",
    "#### Cebisile\n",
    "#### Vuyisile"
   ]
  },
  {
   "cell_type": "markdown",
   "id": "2d0ba691",
   "metadata": {},
   "source": [
    "## 1. What is Job Scrapping"
   ]
  },
  {
   "cell_type": "markdown",
   "id": "b6887b60",
   "metadata": {},
   "source": [
    "Every day, a large number of job listings are placed on a variety of job boards and websites. Finding suitable roles can be difficult and time-consuming. Job scraping tools are as vital to the functioning of job boards. That’s because job scraping tools are responsible for looking for, acquiring, and processing the resource that serves as the lifeblood for the functioning of the job board . And the growing job market, combined with the emergence and expansion of the freelance market means that there is a constant growth in the number of job postings put out by employers across the nation. In this project we the gather job data across the web (job boards, career pages) and convert it to a structured format. "
   ]
  },
  {
   "attachments": {
    "main-qimg-56e2bbc5bb5c1b602b4f71716f8ecffd.webp": {
     "image/webp": "[encoded data removed]"
    }
   },
   "cell_type": "markdown",
   "id": "1d117a8a",
   "metadata": {},
   "source": [
    "![main-qimg-56e2bbc5bb5c1b602b4f71716f8ecffd.webp](attachment:main-qimg-56e2bbc5bb5c1b602b4f71716f8ecffd.webp)"
   ]
  },
  {
   "cell_type": "markdown",
   "id": "5f6fe848",
   "metadata": {},
   "source": [
    "## 2. The purpose of the project"
   ]
  },
  {
   "cell_type": "markdown",
   "id": "e22b20eb",
   "metadata": {},
   "source": [
    "The goal of the project is to gather a large number of job listings and filter them into a format that meets the specific needs of EXPLORE graduates. As a result, time is saved for Explore graduates to search the internet for jobs that meet their requirements."
   ]
  },
  {
   "cell_type": "markdown",
   "id": "813ce693",
   "metadata": {},
   "source": [
    "## 3. Project Limitations"
   ]
  },
  {
   "cell_type": "markdown",
   "id": "5b8241a6",
   "metadata": {},
   "source": [
    "* Because the majority of websites do not allow web scraping tools, the project is limited to those that do."
   ]
  },
  {
   "cell_type": "markdown",
   "id": "0e2716bd",
   "metadata": {},
   "source": [
    "* There is probably a disconnect between the skills of those in the position and the skills being requested by job advertisements"
   ]
  },
  {
   "cell_type": "markdown",
   "id": "265377cc",
   "metadata": {},
   "source": [
    "* This analysis does not establish the most relevant skills for each of the job titles; rather, it determines the most relevant skills requested in job adverts."
   ]
  },
  {
   "cell_type": "markdown",
   "id": "34a06097",
   "metadata": {},
   "source": [
    "* This analysis only looks at data science related job postings"
   ]
  },
  {
   "cell_type": "markdown",
   "id": "1402a50f",
   "metadata": {},
   "source": [
    "# Web Scraping Job Postings from Indeed"
   ]
  },
  {
   "cell_type": "markdown",
   "id": "bff9d2f5",
   "metadata": {},
   "source": [
    "For this project, we look at data science-related jobs posted on indeed.com, a job aggregator that updates multiple times daily, in a range of cities. we scrape information from Indeed's pages using Python's \"requests\" and \"BeautifulSoup\" libraries, then assembled the data into a dataframe using the \"pandas\" module for further cleaning and analysis."
   ]
  },
  {
   "cell_type": "markdown",
   "id": "e0875a3a",
   "metadata": {},
   "source": [
    "We want to scrape the follwing feaatures from the  internet pages."
   ]
  },
  {
   "cell_type": "markdown",
   "id": "ae8aebd3",
   "metadata": {},
   "source": [
    "* #### Job title"
   ]
  },
  {
   "cell_type": "markdown",
   "id": "24961bd7",
   "metadata": {},
   "source": [
    "* #### Company name"
   ]
  },
  {
   "cell_type": "markdown",
   "id": "3b372285",
   "metadata": {},
   "source": [
    "* #### Location"
   ]
  },
  {
   "cell_type": "markdown",
   "id": "3f4f092e",
   "metadata": {},
   "source": [
    "* #### Job summary"
   ]
  },
  {
   "cell_type": "markdown",
   "id": "4e6fb4d3",
   "metadata": {},
   "source": [
    "* #### Job Link"
   ]
  },
  {
   "cell_type": "markdown",
   "id": "cdded74a",
   "metadata": {},
   "source": [
    "* #### Date posted"
   ]
  },
  {
   "cell_type": "markdown",
   "id": "98e390cb",
   "metadata": {},
   "source": [
    "## Importing packages"
   ]
  },
  {
   "cell_type": "code",
   "execution_count": 2,
   "id": "23375a6d",
   "metadata": {},
   "outputs": [],
   "source": [
    "import requests # request accesing pages\n",
    "from bs4 import BeautifulSoup as Soup # to scrape html code from pages\n",
    "import pandas as pd # to create a data frame\n",
    "import numpy as np # generate random times for pauses between requests "
   ]
  },
  {
   "cell_type": "markdown",
   "id": "3b6c9e46",
   "metadata": {},
   "source": [
    "## Creating a Dataframe"
   ]
  },
  {
   "cell_type": "code",
   "execution_count": 3,
   "id": "d9c836da",
   "metadata": {},
   "outputs": [],
   "source": [
    "features = ['Title','Company','Summary', 'Date'] # list of features\n",
    "indeed = pd.DataFrame(columns = features) # Creating a dataframe named indeed"
   ]
  },
  {
   "cell_type": "markdown",
   "id": "6d1e6483",
   "metadata": {},
   "source": [
    "## Extracting All jobs from the pages"
   ]
  },
  {
   "cell_type": "code",
   "execution_count": 11,
   "id": "f9fde9de",
   "metadata": {},
   "outputs": [],
   "source": [
    "for page in range(0,1000):\n",
    "    urls = \"https://za.indeed.com/jobs?q=Data%20Scientist&start=\"\n",
    "    url = urls + str(page*10)\n",
    "    P_url = requests.get(url)\n",
    "    P_html = P_url.text\n",
    "    P_soup = Soup(P_html, \"html.parser\")\n",
    "    containers = P_soup.findAll(\"div\", {\"class\": \"job_seen_beacon\"})\n",
    "    container = containers[0]"
   ]
  },
  {
   "cell_type": "markdown",
   "id": "1d081135",
   "metadata": {},
   "source": [
    "## Extracting Job Title, Company name, Job summary and Date posted"
   ]
  },
  {
   "cell_type": "code",
   "execution_count": 12,
   "id": "f0ca7944",
   "metadata": {},
   "outputs": [],
   "source": [
    "for container in containers:\n",
    "        Title = container.findAll(\"div\",{\"class\": \"heading4\"})\n",
    "        if len(Title) != 0:\n",
    "            title = Title[0].text.strip()\n",
    "        else:\n",
    "            title = \"NaN\"  \n",
    "\n",
    "        Company = container.findAll(\"span\",{\"class\":\"companyName\"})\n",
    "        if len(Company) != 0:\n",
    "            comp = Company[0].text.strip()\n",
    "        else:\n",
    "            comp = \"NaN\"  \n",
    "        Location =  container.findAll('div',{\"class\":\"companylocation\"})\n",
    "        if len(Location) != 0:\n",
    "             loc = Location[0].text.strip()\n",
    "        else:\n",
    "            city = \"NaN\"  \n",
    " \n",
    "        Summary = container.findAll(\"div\",{\"class\":\"job-snippet\"})\n",
    "        if len(Summary) != 0:\n",
    "            summ = Summary[0].text.strip()\n",
    "        else:\n",
    "            summ = \"NaN\"  \n",
    "    \n",
    "        date = container.findAll('span',{\"class\":\"date\"})\n",
    "        if len(date) != 0:\n",
    "            dat = date[0].text.strip()\n",
    "        else:\n",
    "            dat = \"NaN\"         "
   ]
  },
  {
   "cell_type": "markdown",
   "id": "96d367fc",
   "metadata": {},
   "source": [
    "## Adding the data to the created dataframe"
   ]
  },
  {
   "cell_type": "code",
   "execution_count": 13,
   "id": "b113759b",
   "metadata": {},
   "outputs": [],
   "source": [
    "data = pd.DataFrame([[title, comp, summ, dat]])\n",
    "data.columns = features\n",
    "indeed = indeed.append(data, ignore_index = True)\n",
    "\n"
   ]
  },
  {
   "cell_type": "markdown",
   "id": "1c918bb7",
   "metadata": {},
   "source": [
    "## Converting the Dataframe indeed to a CSV"
   ]
  },
  {
   "cell_type": "code",
   "execution_count": 14,
   "id": "98e349ea",
   "metadata": {},
   "outputs": [],
   "source": [
    "indeed.to_csv('Jobs.csv')"
   ]
  },
  {
   "cell_type": "code",
   "execution_count": 15,
   "id": "525a8b2a",
   "metadata": {},
   "outputs": [
    {
     "data": {
      "text/plain": [
       "(2, 4)"
      ]
     },
     "execution_count": 15,
     "metadata": {},
     "output_type": "execute_result"
    }
   ],
   "source": [
    "indeed.shape # exploring the data entries"
   ]
  },
  {
   "cell_type": "code",
   "execution_count": 10,
   "id": "8663e254",
   "metadata": {},
   "outputs": [
    {
     "data": {
      "text/html": [
       "<div>\n",
       "<style scoped>\n",
       "    .dataframe tbody tr th:only-of-type {\n",
       "        vertical-align: middle;\n",
       "    }\n",
       "\n",
       "    .dataframe tbody tr th {\n",
       "        vertical-align: top;\n",
       "    }\n",
       "\n",
       "    .dataframe thead th {\n",
       "        text-align: right;\n",
       "    }\n",
       "</style>\n",
       "<table border=\"1\" class=\"dataframe\">\n",
       "  <thead>\n",
       "    <tr style=\"text-align: right;\">\n",
       "      <th></th>\n",
       "      <th>Title</th>\n",
       "      <th>Company</th>\n",
       "      <th>Summary</th>\n",
       "      <th>Date</th>\n",
       "    </tr>\n",
       "  </thead>\n",
       "  <tbody>\n",
       "    <tr>\n",
       "      <th>0</th>\n",
       "      <td>Technologist - Structures</td>\n",
       "      <td>AECOM</td>\n",
       "      <td>+ Collects and analyzes data under the supervi...</td>\n",
       "      <td>Posted30+ days ago</td>\n",
       "    </tr>\n",
       "  </tbody>\n",
       "</table>\n",
       "</div>"
      ],
      "text/plain": [
       "                       Title Company  \\\n",
       "0  Technologist - Structures   AECOM   \n",
       "\n",
       "                                             Summary                Date  \n",
       "0  + Collects and analyzes data under the supervi...  Posted30+ days ago  "
      ]
     },
     "execution_count": 10,
     "metadata": {},
     "output_type": "execute_result"
    }
   ],
   "source": [
    "indeed # veiwing the data"
   ]
  },
  {
   "cell_type": "code",
   "execution_count": null,
   "id": "3072e90a",
   "metadata": {},
   "outputs": [],
   "source": []
  }
 ],
 "metadata": {
  "kernelspec": {
   "display_name": "Python 3",
   "language": "python",
   "name": "python3"
  },
  "language_info": {
   "codemirror_mode": {
    "name": "ipython",
    "version": 3
   },
   "file_extension": ".py",
   "mimetype": "text/x-python",
   "name": "python",
   "nbconvert_exporter": "python",
   "pygments_lexer": "ipython3",
   "version": "3.8.8"
  }
 },
 "nbformat": 4,
 "nbformat_minor": 5
}
