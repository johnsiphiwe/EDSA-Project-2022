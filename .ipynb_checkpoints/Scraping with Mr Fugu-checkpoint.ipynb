{
 "cells": [
  {
   "cell_type": "code",
   "execution_count": 1,
   "metadata": {},
   "outputs": [],
   "source": [
    "import numpy as np\n",
    "import pandas as pd\n",
    "from bs4 import BeautifulSoup\n",
    "import requests\n",
    "from datetime import datetime\n",
    "import csv\n",
    "import urllib\n",
    "import re\n",
    "from urllib.request import urlopen"
   ]
  },
  {
   "cell_type": "code",
   "execution_count": 3,
   "metadata": {},
   "outputs": [
    {
     "ename": "SyntaxError",
     "evalue": "invalid syntax (<ipython-input-3-b20201e8a0d5>, line 1)",
     "output_type": "error",
     "traceback": [
      "\u001b[1;36m  File \u001b[1;32m\"<ipython-input-3-b20201e8a0d5>\"\u001b[1;36m, line \u001b[1;32m1\u001b[0m\n\u001b[1;33m    https://sa.indeed.com/jobs?q=data%20scientist&l=South%20Africa%2C%20Gauteng&start&vjk=431142e852804cc4\u001b[0m\n\u001b[1;37m          ^\u001b[0m\n\u001b[1;31mSyntaxError\u001b[0m\u001b[1;31m:\u001b[0m invalid syntax\n"
     ]
    }
   ],
   "source": [
    "://shttpsa.indeed.com/jobs?q=data%20scientist&l=South%20Africa%2C%20Gauteng&start&vjk=431142e852804cc4"
   ]
  },
  {
   "cell_type": "code",
   "execution_count": null,
   "metadata": {},
   "outputs": [],
   "source": [
    "features = ['Title','Company','Location', 'Salary'] # list of features\n",
    "indeed = pd.DataFrame(columns = features) # Creating a dataframe named indeed"
   ]
  },
  {
   "cell_type": "code",
   "execution_count": null,
   "metadata": {},
   "outputs": [],
   "source": [
    "ss =[]\n",
    "\n",
    "for i in range(0,15,10): #calling 15 enteries\n",
    "    position,location ='data scientist','gauteng'\n",
    "    y = requests.get('https://za.indeed.com/jobs?q={}&l={}&sort=start='.format( position,location) + str(i))\n",
    "    print(y)  #it's working"
   ]
  },
  {
   "cell_type": "code",
   "execution_count": null,
   "metadata": {},
   "outputs": [],
   "source": [
    "soup = BeautifulSoup(y.text,'lxml')\n",
    "#print(soup)"
   ]
  },
  {
   "cell_type": "code",
   "execution_count": null,
   "metadata": {},
   "outputs": [],
   "source": [
    "\n",
    "for jj in soup.find_all('div', {'class': 'job_seen_beacon'}):\n",
    "    i = jj.find('tbody')\n",
    "    a = i.find('tr')\n",
    "    \n",
    "    \n",
    "    for n in a.find_all('h2',{'class':'jobTitle'}):\n",
    "        job_title = n.find_all('span')[0].get_text()\n",
    "        print(job_title)\n",
    "        \n",
    "        #Company name\n",
    "        other = a.find('div',{'class':'heading6 company_location tapItem-gutter companyInfo'})\n",
    "        pr_ =other.find('span')\n",
    "        company_ = (pr_.get_text())\n",
    "        print(company_)\n",
    "        ss.append(company_)\n",
    "        \n",
    "        \n",
    "        #Salary if available\n",
    "       # if a.find('div',{'class':'metadata salary-snippet-container'}):\n",
    "           # print(a.find('div',{'class':'salary-snippet'}).get_text())\n",
    "            \n",
    "        #else:\n",
    "           #  print('Nope')\n",
    "            #salary_= 'None'\n",
    "            \n",
    "        #Location\n",
    "        opt_l = other.find('div',{'class':'companyLocation'})\n",
    "        print(opt_l.get_text())\n",
    "        \n",
    "        \n",
    "        #Job description\n",
    "            \n",
    "            \n",
    "        #Date posted\n",
    "        #for dt in a.find_all('div',{'class':'heading6 tapItem-gutter result-footer'}):\n",
    "            #date_ = dt.find('span',{'class':'date'}).get_text()\n",
    "        \n",
    "        \n",
    "        \n",
    "            "
   ]
  },
  {
   "cell_type": "code",
   "execution_count": null,
   "metadata": {},
   "outputs": [],
   "source": [
    "#pd.set_option('display.max_columns',None)\n",
    "#data = pd.DataFrame([[job_title,  company_, opt_l, salary_]])\n",
    "#data.columns = features\n",
    "#indeed = indeed.append(data, ignore_index = True)\n"
   ]
  },
  {
   "cell_type": "code",
   "execution_count": null,
   "metadata": {},
   "outputs": [],
   "source": [
    "#data.shape"
   ]
  },
  {
   "cell_type": "code",
   "execution_count": null,
   "metadata": {},
   "outputs": [],
   "source": [
    "#indeed.to_csv('Jobs.csv')"
   ]
  },
  {
   "cell_type": "code",
   "execution_count": null,
   "metadata": {},
   "outputs": [],
   "source": [
    "#indeed.shape"
   ]
  },
  {
   "cell_type": "code",
   "execution_count": null,
   "metadata": {},
   "outputs": [],
   "source": [
    "#indeed"
   ]
  },
  {
   "cell_type": "code",
   "execution_count": null,
   "metadata": {},
   "outputs": [],
   "source": []
  }
 ],
 "metadata": {
  "kernelspec": {
   "display_name": "Python 3",
   "language": "python",
   "name": "python3"
  },
  "language_info": {
   "codemirror_mode": {
    "name": "ipython",
    "version": 3
   },
   "file_extension": ".py",
   "mimetype": "text/x-python",
   "name": "python",
   "nbconvert_exporter": "python",
   "pygments_lexer": "ipython3",
   "version": "3.8.3"
  }
 },
 "nbformat": 4,
 "nbformat_minor": 5
}
