{
  "nbformat": 4,
  "nbformat_minor": 0,
  "metadata": {
    "colab": {
      "name": "Titles_grouped .ipynb",
      "provenance": [],
      "authorship_tag": "ABX9TyNE4sBPU3o/dZDby4zFKg16",
      "include_colab_link": true
    },
    "kernelspec": {
      "name": "python3",
      "display_name": "Python 3"
    },
    "language_info": {
      "name": "python"
    }
  },
  "cells": [
    {
      "cell_type": "markdown",
      "metadata": {
        "id": "view-in-github",
        "colab_type": "text"
      },
      "source": [
        "<a href=\"https://colab.research.google.com/github/johnsiphiwe/EDSA-Project-2022/blob/main/Titles_grouped_.ipynb\" target=\"_parent\"><img src=\"https://colab.research.google.com/assets/colab-badge.svg\" alt=\"Open In Colab\"/></a>"
      ]
    },
    {
      "cell_type": "code",
      "execution_count": 1,
      "metadata": {
        "id": "uPV7w65FdQeN"
      },
      "outputs": [],
      "source": [
        "import numpy  as np\n",
        "import pandas as pd"
      ]
    },
    {
      "cell_type": "code",
      "source": [
        "df = pd.read_csv('https://raw.githubusercontent.com/cebisiles/Job-titles-my-work-/main/joblisting_df.csv', index_col = False)"
      ],
      "metadata": {
        "id": "gdzJK7dZl4Fm"
      },
      "execution_count": 4,
      "outputs": []
    },
    {
      "cell_type": "code",
      "source": [
        "df.head()"
      ],
      "metadata": {
        "colab": {
          "base_uri": "https://localhost:8080/",
          "height": 441
        },
        "id": "Mcgtoip4eBOm",
        "outputId": "46c73343-f6e5-4c66-9aad-c69c87909340"
      },
      "execution_count": 5,
      "outputs": [
        {
          "output_type": "execute_result",
          "data": {
            "text/plain": [
              "   Unnamed: 0  Unnamed: 0.1  \\\n",
              "0           0             0   \n",
              "1           1             1   \n",
              "2           2             2   \n",
              "3           3             3   \n",
              "4           4             4   \n",
              "\n",
              "                                               title                  company  \\\n",
              "0  AWS Data Science Architect (QlikView & QlikSen...        iSanqa Resourcing   \n",
              "1  Business Intelligence Developer (with Cloud an...   e-Merge IT Recruitment   \n",
              "2                               Data science manager  Communicate Recruitment   \n",
              "3                               Data science manager  Communicate Recruitment   \n",
              "4  Business Intelligence Developer (with Cloud an...   e-Merge IT Recruitment   \n",
              "\n",
              "                location                                           job_desc  \\\n",
              "0  Midrand, Johannesburg  AWS Data Science Architect (QlikView & QlikSen...   \n",
              "1  Johannesburg, Gauteng  An awesome opportunity is available for a Busi...   \n",
              "2  Johannesburg, Gauteng  *Reference: CPM008305-THa-2*   Our client in f...   \n",
              "3  Johannesburg, Gauteng  *Reference: CPM008305-RMo-1*   Our client in f...   \n",
              "4  Johannesburg, Gauteng  An awesome opportunity is available for a Busi...   \n",
              "\n",
              "  date_posted date_scrapped                     salary  \\\n",
              "0        None    2022-05-08                        NaN   \n",
              "1  2 days ago    2022-05-08                        NaN   \n",
              "2  3 days ago    2022-05-08  R620,000-700,000 per year   \n",
              "3  3 days ago    2022-05-08  R620,000-700,000 per year   \n",
              "4  3 days ago    2022-05-08                        NaN   \n",
              "\n",
              "                                             job_url  \n",
              "0  https://www.careerjet.co.za/jobad/zae5921d3d4a...  \n",
              "1  https://www.careerjet.co.za/jobad/zadbe4ba70e8...  \n",
              "2  https://www.careerjet.co.za/jobad/zae0c9b80b17...  \n",
              "3  https://www.careerjet.co.za/jobad/zab3ed08a036...  \n",
              "4  https://www.careerjet.co.za/jobad/za589075d2ad...  "
            ],
            "text/html": [
              "\n",
              "  <div id=\"df-9676beae-9b47-41d4-9e7a-bf0a3fcbf91a\">\n",
              "    <div class=\"colab-df-container\">\n",
              "      <div>\n",
              "<style scoped>\n",
              "    .dataframe tbody tr th:only-of-type {\n",
              "        vertical-align: middle;\n",
              "    }\n",
              "\n",
              "    .dataframe tbody tr th {\n",
              "        vertical-align: top;\n",
              "    }\n",
              "\n",
              "    .dataframe thead th {\n",
              "        text-align: right;\n",
              "    }\n",
              "</style>\n",
              "<table border=\"1\" class=\"dataframe\">\n",
              "  <thead>\n",
              "    <tr style=\"text-align: right;\">\n",
              "      <th></th>\n",
              "      <th>Unnamed: 0</th>\n",
              "      <th>Unnamed: 0.1</th>\n",
              "      <th>title</th>\n",
              "      <th>company</th>\n",
              "      <th>location</th>\n",
              "      <th>job_desc</th>\n",
              "      <th>date_posted</th>\n",
              "      <th>date_scrapped</th>\n",
              "      <th>salary</th>\n",
              "      <th>job_url</th>\n",
              "    </tr>\n",
              "  </thead>\n",
              "  <tbody>\n",
              "    <tr>\n",
              "      <th>0</th>\n",
              "      <td>0</td>\n",
              "      <td>0</td>\n",
              "      <td>AWS Data Science Architect (QlikView &amp; QlikSen...</td>\n",
              "      <td>iSanqa Resourcing</td>\n",
              "      <td>Midrand, Johannesburg</td>\n",
              "      <td>AWS Data Science Architect (QlikView &amp; QlikSen...</td>\n",
              "      <td>None</td>\n",
              "      <td>2022-05-08</td>\n",
              "      <td>NaN</td>\n",
              "      <td>https://www.careerjet.co.za/jobad/zae5921d3d4a...</td>\n",
              "    </tr>\n",
              "    <tr>\n",
              "      <th>1</th>\n",
              "      <td>1</td>\n",
              "      <td>1</td>\n",
              "      <td>Business Intelligence Developer (with Cloud an...</td>\n",
              "      <td>e-Merge IT Recruitment</td>\n",
              "      <td>Johannesburg, Gauteng</td>\n",
              "      <td>An awesome opportunity is available for a Busi...</td>\n",
              "      <td>2 days ago</td>\n",
              "      <td>2022-05-08</td>\n",
              "      <td>NaN</td>\n",
              "      <td>https://www.careerjet.co.za/jobad/zadbe4ba70e8...</td>\n",
              "    </tr>\n",
              "    <tr>\n",
              "      <th>2</th>\n",
              "      <td>2</td>\n",
              "      <td>2</td>\n",
              "      <td>Data science manager</td>\n",
              "      <td>Communicate Recruitment</td>\n",
              "      <td>Johannesburg, Gauteng</td>\n",
              "      <td>*Reference: CPM008305-THa-2*   Our client in f...</td>\n",
              "      <td>3 days ago</td>\n",
              "      <td>2022-05-08</td>\n",
              "      <td>R620,000-700,000 per year</td>\n",
              "      <td>https://www.careerjet.co.za/jobad/zae0c9b80b17...</td>\n",
              "    </tr>\n",
              "    <tr>\n",
              "      <th>3</th>\n",
              "      <td>3</td>\n",
              "      <td>3</td>\n",
              "      <td>Data science manager</td>\n",
              "      <td>Communicate Recruitment</td>\n",
              "      <td>Johannesburg, Gauteng</td>\n",
              "      <td>*Reference: CPM008305-RMo-1*   Our client in f...</td>\n",
              "      <td>3 days ago</td>\n",
              "      <td>2022-05-08</td>\n",
              "      <td>R620,000-700,000 per year</td>\n",
              "      <td>https://www.careerjet.co.za/jobad/zab3ed08a036...</td>\n",
              "    </tr>\n",
              "    <tr>\n",
              "      <th>4</th>\n",
              "      <td>4</td>\n",
              "      <td>4</td>\n",
              "      <td>Business Intelligence Developer (with Cloud an...</td>\n",
              "      <td>e-Merge IT Recruitment</td>\n",
              "      <td>Johannesburg, Gauteng</td>\n",
              "      <td>An awesome opportunity is available for a Busi...</td>\n",
              "      <td>3 days ago</td>\n",
              "      <td>2022-05-08</td>\n",
              "      <td>NaN</td>\n",
              "      <td>https://www.careerjet.co.za/jobad/za589075d2ad...</td>\n",
              "    </tr>\n",
              "  </tbody>\n",
              "</table>\n",
              "</div>\n",
              "      <button class=\"colab-df-convert\" onclick=\"convertToInteractive('df-9676beae-9b47-41d4-9e7a-bf0a3fcbf91a')\"\n",
              "              title=\"Convert this dataframe to an interactive table.\"\n",
              "              style=\"display:none;\">\n",
              "        \n",
              "  <svg xmlns=\"http://www.w3.org/2000/svg\" height=\"24px\"viewBox=\"0 0 24 24\"\n",
              "       width=\"24px\">\n",
              "    <path d=\"M0 0h24v24H0V0z\" fill=\"none\"/>\n",
              "    <path d=\"M18.56 5.44l.94 2.06.94-2.06 2.06-.94-2.06-.94-.94-2.06-.94 2.06-2.06.94zm-11 1L8.5 8.5l.94-2.06 2.06-.94-2.06-.94L8.5 2.5l-.94 2.06-2.06.94zm10 10l.94 2.06.94-2.06 2.06-.94-2.06-.94-.94-2.06-.94 2.06-2.06.94z\"/><path d=\"M17.41 7.96l-1.37-1.37c-.4-.4-.92-.59-1.43-.59-.52 0-1.04.2-1.43.59L10.3 9.45l-7.72 7.72c-.78.78-.78 2.05 0 2.83L4 21.41c.39.39.9.59 1.41.59.51 0 1.02-.2 1.41-.59l7.78-7.78 2.81-2.81c.8-.78.8-2.07 0-2.86zM5.41 20L4 18.59l7.72-7.72 1.47 1.35L5.41 20z\"/>\n",
              "  </svg>\n",
              "      </button>\n",
              "      \n",
              "  <style>\n",
              "    .colab-df-container {\n",
              "      display:flex;\n",
              "      flex-wrap:wrap;\n",
              "      gap: 12px;\n",
              "    }\n",
              "\n",
              "    .colab-df-convert {\n",
              "      background-color: #E8F0FE;\n",
              "      border: none;\n",
              "      border-radius: 50%;\n",
              "      cursor: pointer;\n",
              "      display: none;\n",
              "      fill: #1967D2;\n",
              "      height: 32px;\n",
              "      padding: 0 0 0 0;\n",
              "      width: 32px;\n",
              "    }\n",
              "\n",
              "    .colab-df-convert:hover {\n",
              "      background-color: #E2EBFA;\n",
              "      box-shadow: 0px 1px 2px rgba(60, 64, 67, 0.3), 0px 1px 3px 1px rgba(60, 64, 67, 0.15);\n",
              "      fill: #174EA6;\n",
              "    }\n",
              "\n",
              "    [theme=dark] .colab-df-convert {\n",
              "      background-color: #3B4455;\n",
              "      fill: #D2E3FC;\n",
              "    }\n",
              "\n",
              "    [theme=dark] .colab-df-convert:hover {\n",
              "      background-color: #434B5C;\n",
              "      box-shadow: 0px 1px 3px 1px rgba(0, 0, 0, 0.15);\n",
              "      filter: drop-shadow(0px 1px 2px rgba(0, 0, 0, 0.3));\n",
              "      fill: #FFFFFF;\n",
              "    }\n",
              "  </style>\n",
              "\n",
              "      <script>\n",
              "        const buttonEl =\n",
              "          document.querySelector('#df-9676beae-9b47-41d4-9e7a-bf0a3fcbf91a button.colab-df-convert');\n",
              "        buttonEl.style.display =\n",
              "          google.colab.kernel.accessAllowed ? 'block' : 'none';\n",
              "\n",
              "        async function convertToInteractive(key) {\n",
              "          const element = document.querySelector('#df-9676beae-9b47-41d4-9e7a-bf0a3fcbf91a');\n",
              "          const dataTable =\n",
              "            await google.colab.kernel.invokeFunction('convertToInteractive',\n",
              "                                                     [key], {});\n",
              "          if (!dataTable) return;\n",
              "\n",
              "          const docLinkHtml = 'Like what you see? Visit the ' +\n",
              "            '<a target=\"_blank\" href=https://colab.research.google.com/notebooks/data_table.ipynb>data table notebook</a>'\n",
              "            + ' to learn more about interactive tables.';\n",
              "          element.innerHTML = '';\n",
              "          dataTable['output_type'] = 'display_data';\n",
              "          await google.colab.output.renderOutput(dataTable, element);\n",
              "          const docLink = document.createElement('div');\n",
              "          docLink.innerHTML = docLinkHtml;\n",
              "          element.appendChild(docLink);\n",
              "        }\n",
              "      </script>\n",
              "    </div>\n",
              "  </div>\n",
              "  "
            ]
          },
          "metadata": {},
          "execution_count": 5
        }
      ]
    },
    {
      "cell_type": "code",
      "source": [
        "df = df.drop(['Unnamed: 0', 'Unnamed: 0.1'], axis = 1)"
      ],
      "metadata": {
        "id": "juv9PkBeeFZ2"
      },
      "execution_count": 6,
      "outputs": []
    },
    {
      "cell_type": "code",
      "source": [
        "df['title'] = df['title'].str.lower()\n",
        "df['title'].head()"
      ],
      "metadata": {
        "colab": {
          "base_uri": "https://localhost:8080/"
        },
        "id": "MtnfTxf7e7_v",
        "outputId": "1b8c5ca7-db6d-4d51-9175-9e11ee63e30d"
      },
      "execution_count": 7,
      "outputs": [
        {
          "output_type": "execute_result",
          "data": {
            "text/plain": [
              "0    aws data science architect (qlikview & qliksen...\n",
              "1    business intelligence developer (with cloud an...\n",
              "2                                 data science manager\n",
              "3                                 data science manager\n",
              "4    business intelligence developer (with cloud an...\n",
              "Name: title, dtype: object"
            ]
          },
          "metadata": {},
          "execution_count": 7
        }
      ]
    },
    {
      "cell_type": "code",
      "source": [
        "titles_counts = df['title'].value_counts()"
      ],
      "metadata": {
        "id": "wlG3iOH1fJdt"
      },
      "execution_count": 8,
      "outputs": []
    },
    {
      "cell_type": "code",
      "source": [
        "titles_counts.head(10) "
      ],
      "metadata": {
        "colab": {
          "base_uri": "https://localhost:8080/"
        },
        "id": "gVaxzBKKfjEA",
        "outputId": "b11a8c07-78cd-4507-be08-b61a49a525a5"
      },
      "execution_count": 9,
      "outputs": [
        {
          "output_type": "execute_result",
          "data": {
            "text/plain": [
              "data science manager                                                                                               671\n",
              "consultant, data science and analytics                                                                             170\n",
              "newdata analyst                                                                                                    166\n",
              "quantitative analyst                                                                                               130\n",
              "aws data science architect – semi remote – r742 per hour                                                           125\n",
              "business intelligence developer (with cloud and data science experience) - semi remote - r780 per hour 1497 600    124\n",
              "business intelligence developer (with cloud and data science experience) – semi remote – r780 per hour             124\n",
              "data science - cape town & johannesburg                                                                            124\n",
              "aws data science architect (contract) midrand/menlyn/rosslyn/home office rotation - isb2102000                     102\n",
              "2022 graduate - data science associate, agribusiness intelligence (cape town)                                      102\n",
              "Name: title, dtype: int64"
            ]
          },
          "metadata": {},
          "execution_count": 9
        }
      ]
    },
    {
      "cell_type": "code",
      "source": [
        "ax = titles_counts.head(10).plot.bar(rot=90) #Plotting the top 10 titles"
      ],
      "metadata": {
        "colab": {
          "base_uri": "https://localhost:8080/",
          "height": 827
        },
        "id": "qRX7N0U3fsgb",
        "outputId": "0dcb4fc9-6c31-4bbd-c07d-458b4e4fd6a5"
      },
      "execution_count": 11,
      "outputs": [
        {
          "output_type": "display_data",
          "data": {
            "text/plain": [
              "<Figure size 432x288 with 1 Axes>"
            ],
            "image/png": "[encoded data removed]"
          },
          "metadata": {
            "needs_background": "light"
          }
        }
      ]
    },
    {
      "cell_type": "code",
      "source": [
        ""
      ],
      "metadata": {
        "id": "-fQIoLz5gTgj"
      },
      "execution_count": null,
      "outputs": []
    }
  ]
}