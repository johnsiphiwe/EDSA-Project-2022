{
 "cells": [
  {
   "cell_type": "code",
   "execution_count": 1,
   "id": "66e67577",
   "metadata": {},
   "outputs": [],
   "source": [
    "#libraries needed for webscrapping\n",
    "import requests\n",
    "from bs4 import BeautifulSoup\n",
    "import pandas as pd\n",
    "import numpy as np\n",
    "import re\n",
    "import string\n",
    "from datetime import datetime\n"
   ]
  },
  {
   "cell_type": "markdown",
   "id": "002c5935",
   "metadata": {},
   "source": [
    "# Indeed \n",
    "## Search phrase = data science "
   ]
  },
  {
   "cell_type": "code",
   "execution_count": null,
   "id": "3acd5416",
   "metadata": {},
   "outputs": [],
   "source": [
    "def extract(page):\n",
    "    #check my user agent\n",
    "    headers = {'User-Agent': 'Mozilla/5.0 (Windows NT 10.0; Win64; x64) AppleWebKit/537.36 (KHTML, like Gecko) Chrome/100.0.4896.127 Safari/537.36'}\n",
    "    #use url from career site put page\n",
    "    url = f'https://www.careerjet.co.za/data-science-jobs.html?p={page}'\n",
    "    res = requests.get(url, headers)\n",
    "    #add soup variable\n",
    "    soup = BeautifulSoup(res.content, 'lxml')\n",
    "    return soup"
   ]
  },
  {
   "cell_type": "code",
   "execution_count": null,
   "id": "0409dfb4",
   "metadata": {},
   "outputs": [],
   "source": [
    "def transform(soup):\n",
    "    #import date \n",
    "    \n",
    "    articles = soup.find_all('article', class_ = 'job clicky')\n",
    "    #return len(articles)\n",
    "    #loop through all the articles\n",
    "    for item in articles:\n",
    "        \n",
    "        try:\n",
    "            title = item.find('a').text.strip()\n",
    "        except:\n",
    "            title = 'None'\n",
    "            \n",
    "        try:\n",
    "            company = item.find('p', class_ = 'company').text.strip()\n",
    "        except:\n",
    "            company = 'None'\n",
    "            \n",
    "        try:\n",
    "            location = item.find('ul', class_ = 'location').text.strip()\n",
    "        except:\n",
    "            location = 'None'\n",
    "        \n",
    "        try:\n",
    "            salary = item.find('ul', class_ = 'salary').text.strip()\n",
    "        except: \n",
    "            salary = ''\n",
    "        \n",
    "        try:\n",
    "            job_desc = item.find('div', class_ = 'desc').text.strip().replace('\\n', '')\n",
    "        except:\n",
    "            job_desc = \"None\"\n",
    "        \n",
    "        date_collected = datetime.today().strftime('%Y-%m-%d')\n",
    "        \n",
    "        try:\n",
    "            date = item.find('span', class_ = 'badge badge-r badge-s').text.strip() \n",
    "        except:\n",
    "            date = 'None'\n",
    "        \n",
    "     \n",
    "        job_url = 'https://www.careerjet.co.za' + str(item.find('a')['href'])\n",
    "        \n",
    "        \n",
    "        jobs = {'title': title,\n",
    "                'company': company,\n",
    "                'location': location,\n",
    "               'job_desc': job_desc,\n",
    "               'date_posted': date,\n",
    "                'date_scrapped': date_collected,\n",
    "               'salary': salary,\n",
    "               'job_url': job_url}\n",
    "       \n",
    "        job_list.append(jobs)\n",
    "        \n",
    "    return\n",
    "\n"
   ]
  }
 ],
 "metadata": {
  "kernelspec": {
   "display_name": "Python 3",
   "language": "python",
   "name": "python3"
  },
  "language_info": {
   "codemirror_mode": {
    "name": "ipython",
    "version": 3
   },
   "file_extension": ".py",
   "mimetype": "text/x-python",
   "name": "python",
   "nbconvert_exporter": "python",
   "pygments_lexer": "ipython3",
   "version": "3.8.8"
  }
 },
 "nbformat": 4,
 "nbformat_minor": 5
}
