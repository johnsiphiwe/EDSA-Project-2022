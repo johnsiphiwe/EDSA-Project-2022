{
 "cells": [
  {
   "cell_type": "code",
   "execution_count": 1,
   "id": "5e01fcf8",
   "metadata": {},
   "outputs": [],
   "source": [
    "import numpy as np\n",
    "import pandas as pd\n",
    "from bs4 import BeautifulSoup\n",
    "import requests\n",
    "from datetime import datetime\n",
    "import csv\n",
    "import urllib\n",
    "import re\n",
    "from urllib.request import urlopen"
   ]
  },
  {
   "cell_type": "code",
   "execution_count": null,
   "id": "7dc19908",
   "metadata": {},
   "outputs": [],
   "source": [
    "https://za.indeed.com/jobs?q=data%20scientist&l=South%20Africa%2C%20Gauteng&start&vjk=431142e852804cc4"
   ]
  },
  {
   "cell_type": "code",
   "execution_count": 32,
   "id": "027bdba3",
   "metadata": {},
   "outputs": [],
   "source": [
    "features = ['Title','Company','Location', 'Salary'] # list of features\n",
    "indeed = pd.DataFrame(columns = features) # Creating a dataframe named indeed"
   ]
  },
  {
   "cell_type": "code",
   "execution_count": 58,
   "id": "319c9ca3",
   "metadata": {},
   "outputs": [
    {
     "name": "stdout",
     "output_type": "stream",
     "text": [
      "<Response [200]>\n",
      "<Response [200]>\n"
     ]
    }
   ],
   "source": [
    "ss =[]\n",
    "\n",
    "for i in range(0,15,10): #calling 15 enteries\n",
    "    position,location ='data scientist','gauteng'\n",
    "    y = requests.get('https://za.indeed.com/jobs?q={}&l={}&sort=start='.format( position,location) + str(i))\n",
    "    print(y)  #it's working"
   ]
  },
  {
   "cell_type": "code",
   "execution_count": 59,
   "id": "edbaf284",
   "metadata": {},
   "outputs": [],
   "source": [
    "soup = BeautifulSoup(y.text,'lxml')\n",
    "#print(soup)"
   ]
  },
  {
   "cell_type": "code",
   "execution_count": 71,
   "id": "147f8070",
   "metadata": {},
   "outputs": [
    {
     "name": "stdout",
     "output_type": "stream",
     "text": [
      "new\n",
      "Luno\n",
      "Remote in Johannesburg, Gauteng\n",
      "Data Scientist Senior TVQ G1928\n",
      "Open Source (Pty) Ltd\n",
      "Midrand, Gauteng\n",
      "new\n",
      "LexisNexis\n",
      "Johannesburg, Gauteng\n",
      "new\n",
      "IBM\n",
      "Sandton, Gauteng\n",
      "Data Scientist (Ref - DNTS)\n",
      "DotModus\n",
      "Johannesburg, Gauteng\n",
      "Data Scientist III\n",
      "FirstRand\n",
      "Johannesburg, Gauteng\n",
      "new\n",
      "E-Merge\n",
      "Remote in Pretoria, Gauteng\n",
      "new\n",
      "E-Merge\n",
      "Johannesburg, Gauteng\n",
      "new\n",
      "E-Merge\n",
      "Johannesburg, Gauteng\n",
      "new\n",
      "Mintek\n",
      "Randburg, Gauteng\n",
      "Deloitte Consulting - Mid-Level Data Scientist\n",
      "Deloitte\n",
      "Midrand, Gauteng\n",
      "Power BI Developer / Data Scientist\n",
      "Green Marble Recruitment Consultants\n",
      "Johannesburg, Gauteng\n",
      "REPL Group - Senior Data Scientist\n",
      "Accenture\n",
      "Centurion, Gauteng+1 location\n",
      "Data Scientist Action AI/ML\n",
      "ProQuo AI\n",
      "Johannesburg, Gauteng 2196\n",
      "new\n",
      "E-Merge\n",
      "Johannesburg, Gauteng\n"
     ]
    }
   ],
   "source": [
    "\n",
    "for jj in soup.find_all('div', {'class': 'job_seen_beacon'}):\n",
    "    i = jj.find('tbody')\n",
    "    a = i.find('tr')\n",
    "    \n",
    "    \n",
    "    for n in a.find_all('h2',{'class':'jobTitle'}):\n",
    "        job_title = n.find_all('span')[0].get_text()\n",
    "        print(job_title)\n",
    "        \n",
    "        #Company name\n",
    "        other = a.find('div',{'class':'heading6 company_location tapItem-gutter companyInfo'})\n",
    "        pr_ =other.find('span')\n",
    "        company_ = (pr_.get_text())\n",
    "        print(company_)\n",
    "        ss.append(company_)\n",
    "        \n",
    "        \n",
    "        #Salary if available\n",
    "       # if a.find('div',{'class':'metadata salary-snippet-container'}):\n",
    "           # print(a.find('div',{'class':'salary-snippet'}).get_text())\n",
    "            \n",
    "        #else:\n",
    "           #  print('Nope')\n",
    "            #salary_= 'None'\n",
    "            \n",
    "        #Location\n",
    "        opt_l = other.find('div',{'class':'companyLocation'})\n",
    "        print(opt_l.get_text())\n",
    "        \n",
    "        \n",
    "        #Job description\n",
    "            \n",
    "            \n",
    "        #Date posted\n",
    "        #for dt in a.find_all('div',{'class':'heading6 tapItem-gutter result-footer'}):\n",
    "            #date_ = dt.find('span',{'class':'date'}).get_text()\n",
    "        \n",
    "        \n",
    "        \n",
    "            "
   ]
  },
  {
   "cell_type": "code",
   "execution_count": 72,
   "id": "4f0ce093",
   "metadata": {},
   "outputs": [],
   "source": [
    "#pd.set_option('display.max_columns',None)\n",
    "#data = pd.DataFrame([[job_title,  company_, opt_l, salary_]])\n",
    "#data.columns = features\n",
    "#indeed = indeed.append(data, ignore_index = True)\n"
   ]
  },
  {
   "cell_type": "code",
   "execution_count": 73,
   "id": "f7afa90e",
   "metadata": {},
   "outputs": [
    {
     "data": {
      "text/plain": [
       "(1, 4)"
      ]
     },
     "execution_count": 73,
     "metadata": {},
     "output_type": "execute_result"
    }
   ],
   "source": [
    "#data.shape"
   ]
  },
  {
   "cell_type": "code",
   "execution_count": 52,
   "id": "4102be43",
   "metadata": {},
   "outputs": [],
   "source": [
    "#indeed.to_csv('Jobs.csv')"
   ]
  },
  {
   "cell_type": "code",
   "execution_count": 54,
   "id": "23708676",
   "metadata": {},
   "outputs": [
    {
     "data": {
      "text/plain": [
       "(3, 4)"
      ]
     },
     "execution_count": 54,
     "metadata": {},
     "output_type": "execute_result"
    }
   ],
   "source": [
    "#indeed.shape"
   ]
  },
  {
   "cell_type": "code",
   "execution_count": 53,
   "id": "39fda800",
   "metadata": {},
   "outputs": [
    {
     "data": {
      "text/html": [
       "<div>\n",
       "<style scoped>\n",
       "    .dataframe tbody tr th:only-of-type {\n",
       "        vertical-align: middle;\n",
       "    }\n",
       "\n",
       "    .dataframe tbody tr th {\n",
       "        vertical-align: top;\n",
       "    }\n",
       "\n",
       "    .dataframe thead th {\n",
       "        text-align: right;\n",
       "    }\n",
       "</style>\n",
       "<table border=\"1\" class=\"dataframe\">\n",
       "  <thead>\n",
       "    <tr style=\"text-align: right;\">\n",
       "      <th></th>\n",
       "      <th>Title</th>\n",
       "      <th>Company</th>\n",
       "      <th>Location</th>\n",
       "      <th>Salary</th>\n",
       "    </tr>\n",
       "  </thead>\n",
       "  <tbody>\n",
       "    <tr>\n",
       "      <th>0</th>\n",
       "      <td>Data Engineer (Fixed-term)</td>\n",
       "      <td>Heineken</td>\n",
       "      <td>[Johannesburg, Gauteng 2000]</td>\n",
       "      <td>None</td>\n",
       "    </tr>\n",
       "    <tr>\n",
       "      <th>1</th>\n",
       "      <td>new</td>\n",
       "      <td>E-Merge</td>\n",
       "      <td>[Johannesburg, Gauteng]</td>\n",
       "      <td>None</td>\n",
       "    </tr>\n",
       "    <tr>\n",
       "      <th>2</th>\n",
       "      <td>new</td>\n",
       "      <td>E-Merge</td>\n",
       "      <td>[Johannesburg, Gauteng]</td>\n",
       "      <td>None</td>\n",
       "    </tr>\n",
       "  </tbody>\n",
       "</table>\n",
       "</div>"
      ],
      "text/plain": [
       "                        Title   Company                      Location Salary\n",
       "0  Data Engineer (Fixed-term)  Heineken  [Johannesburg, Gauteng 2000]   None\n",
       "1                         new   E-Merge       [Johannesburg, Gauteng]   None\n",
       "2                         new   E-Merge       [Johannesburg, Gauteng]   None"
      ]
     },
     "execution_count": 53,
     "metadata": {},
     "output_type": "execute_result"
    }
   ],
   "source": [
    "#indeed"
   ]
  },
  {
   "cell_type": "code",
   "execution_count": null,
   "id": "4f6fd500",
   "metadata": {},
   "outputs": [],
   "source": []
  }
 ],
 "metadata": {
  "kernelspec": {
   "display_name": "Python 3 (ipykernel)",
   "language": "python",
   "name": "python3"
  },
  "language_info": {
   "codemirror_mode": {
    "name": "ipython",
    "version": 3
   },
   "file_extension": ".py",
   "mimetype": "text/x-python",
   "name": "python",
   "nbconvert_exporter": "python",
   "pygments_lexer": "ipython3",
   "version": "3.9.7"
  }
 },
 "nbformat": 4,
 "nbformat_minor": 5
}
