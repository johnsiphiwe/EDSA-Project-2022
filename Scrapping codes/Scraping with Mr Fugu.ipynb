{
 "cells": [
  {
   "cell_type": "code",
   "execution_count": 1,
   "metadata": {},
   "outputs": [],
   "source": [
    "import numpy as np\n",
    "import pandas as pd\n",
    "from bs4 import BeautifulSoup\n",
    "import requests\n",
    "from datetime import datetime\n",
    "import csv\n",
    "import urllib\n",
    "import re\n",
    "from urllib.request import urlopen"
   ]
  },
  {
   "cell_type": "code",
   "execution_count": 5,
   "metadata": {},
   "outputs": [],
   "source": [
    "#https://sa.indeed.com/jobs?q=data%20scientist&l=South%20Africa%2C%20Gauteng&star&vjk=431142e852804cc4"
   ]
  },
  {
   "cell_type": "code",
   "execution_count": 6,
   "metadata": {},
   "outputs": [],
   "source": [
    "features = ['Title','Company','Location', 'Salary'] # list of features\n",
    "indeed = pd.DataFrame(columns = features) # Creating a dataframe named indeed"
   ]
  },
  {
   "cell_type": "code",
   "execution_count": 7,
   "metadata": {},
   "outputs": [
    {
     "name": "stdout",
     "output_type": "stream",
     "text": [
      "<Response [200]>\n",
      "<Response [200]>\n"
     ]
    }
   ],
   "source": [
    "ss =[]\n",
    "\n",
    "for i in range(0,15,10): #calling 15 enteries\n",
    "    position,location ='data scientist','gauteng'\n",
    "    y = requests.get('https://za.indeed.com/jobs?q={}&l={}&sort=start='.format( position,location) + str(i))\n",
    "    print(y)  #it's working"
   ]
  },
  {
   "cell_type": "code",
   "execution_count": 8,
   "metadata": {},
   "outputs": [],
   "source": [
    "soup = BeautifulSoup(y.text,'lxml')\n",
    "#print(soup)"
   ]
  },
  {
   "cell_type": "code",
   "execution_count": 9,
   "metadata": {},
   "outputs": [
    {
     "name": "stdout",
     "output_type": "stream",
     "text": [
      "new\n",
      "FirstRand\n",
      "Johannesburg, Gauteng+1 location\n",
      "new\n",
      "Standard Bank\n",
      "Johannesburg, Gauteng\n",
      "new\n",
      "Barloworld Logistics\n",
      "Centurion, Gauteng\n",
      "new\n",
      "International Union for Conservation of Nature\n",
      "Pretoria, Gauteng\n",
      "Data Scientist Senior TVQ G1928\n",
      "Open Source (Pty) Ltd\n",
      "Midrand, Gauteng\n",
      "new\n",
      "E-Merge\n",
      "Johannesburg, Gauteng\n",
      "new\n",
      "LexisNexis\n",
      "Johannesburg, Gauteng\n",
      "Data Scientist (Ref - DNTS)\n",
      "DotModus\n",
      "Johannesburg, Gauteng\n",
      "new\n",
      "McCain Foods (S Africa)\n",
      "Bapsfontein, Gauteng\n",
      "Intermediate Data Scientist\n",
      "Reverside\n",
      "Gauteng\n",
      "new\n",
      "E-Merge\n",
      "Johannesburg, Gauteng+1 location\n",
      "new\n",
      "E-Merge\n",
      "Remote in Pretoria, Gauteng\n",
      "Data Engineer\n",
      "Momentum Metropolitan Holdings\n",
      "Centurion, Gauteng\n",
      "Junior Data Scientist\n",
      "Armstrong Appointments\n",
      "Fourways, Gauteng\n",
      "new\n",
      "E-Merge\n",
      "Johannesburg, Gauteng\n"
     ]
    }
   ],
   "source": [
    "\n",
    "for jj in soup.find_all('div', {'class': 'job_seen_beacon'}):\n",
    "    i = jj.find('tbody')\n",
    "    a = i.find('tr')\n",
    "    \n",
    "    \n",
    "    for n in a.find_all('h2',{'class':'jobTitle'}):\n",
    "        job_title = n.find_all('span')[0].get_text()\n",
    "        print(job_title)\n",
    "        \n",
    "        #Company name\n",
    "        other = a.find('div',{'class':'heading6 company_location tapItem-gutter companyInfo'})\n",
    "        pr_ =other.find('span')\n",
    "        company_ = (pr_.get_text())\n",
    "        print(company_)\n",
    "        ss.append(company_)\n",
    "        \n",
    "        \n",
    "        #Salary if available\n",
    "       # if a.find('div',{'class':'metadata salary-snippet-container'}):\n",
    "           # print(a.find('div',{'class':'salary-snippet'}).get_text())\n",
    "            \n",
    "        #else:\n",
    "           #  print('Nope')\n",
    "            #salary_= 'None'\n",
    "            \n",
    "        #Location\n",
    "        opt_l = other.find('div',{'class':'companyLocation'})\n",
    "        print(opt_l.get_text())\n",
    "        \n",
    "        \n",
    "        #Job description\n",
    "            \n",
    "            \n",
    "        #Date posted\n",
    "        #for dt in a.find_all('div',{'class':'heading6 tapItem-gutter result-footer'}):\n",
    "            #date_ = dt.find('span',{'class':'date'}).get_text()\n",
    "        \n",
    "        \n",
    "        \n",
    "            "
   ]
  },
  {
   "cell_type": "code",
   "execution_count": null,
   "metadata": {},
   "outputs": [],
   "source": [
    "#pd.set_option('display.max_columns',None)\n",
    "#data = pd.DataFrame([[job_title,  company_, opt_l, salary_]])\n",
    "#data.columns = features\n",
    "#indeed = indeed.append(data, ignore_index = True)\n"
   ]
  },
  {
   "cell_type": "code",
   "execution_count": null,
   "metadata": {},
   "outputs": [],
   "source": [
    "#data.shape"
   ]
  },
  {
   "cell_type": "code",
   "execution_count": null,
   "metadata": {},
   "outputs": [],
   "source": [
    "#indeed.to_csv('Jobs.csv')"
   ]
  },
  {
   "cell_type": "code",
   "execution_count": null,
   "metadata": {},
   "outputs": [],
   "source": [
    "#indeed.shape"
   ]
  },
  {
   "cell_type": "code",
   "execution_count": null,
   "metadata": {},
   "outputs": [],
   "source": [
    "#indeed"
   ]
  },
  {
   "cell_type": "code",
   "execution_count": null,
   "metadata": {},
   "outputs": [],
   "source": []
  }
 ],
 "metadata": {
  "kernelspec": {
   "display_name": "Python 3",
   "language": "python",
   "name": "python3"
  },
  "language_info": {
   "codemirror_mode": {
    "name": "ipython",
    "version": 3
   },
   "file_extension": ".py",
   "mimetype": "text/x-python",
   "name": "python",
   "nbconvert_exporter": "python",
   "pygments_lexer": "ipython3",
   "version": "3.8.3"
  }
 },
 "nbformat": 4,
 "nbformat_minor": 5
}
